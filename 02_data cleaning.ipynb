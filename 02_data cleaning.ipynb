{
 "cells": [
  {
   "cell_type": "code",
   "execution_count": 3,
   "metadata": {},
   "outputs": [],
   "source": [
    "# import libraries\n",
    "import pandas as pd\n",
    "import numpy as np\n",
    "import matplotlib.pyplot as plt\n",
    "import seaborn as sns\n",
    "\n",
    "from nltk.corpus import stopwords\n",
    "from nltk.stem import WordNetLemmatizer\n",
    "import re"
   ]
  },
  {
   "cell_type": "code",
   "execution_count": 4,
   "metadata": {},
   "outputs": [
    {
     "data": {
      "text/html": [
       "<div>\n",
       "<style scoped>\n",
       "    .dataframe tbody tr th:only-of-type {\n",
       "        vertical-align: middle;\n",
       "    }\n",
       "\n",
       "    .dataframe tbody tr th {\n",
       "        vertical-align: top;\n",
       "    }\n",
       "\n",
       "    .dataframe thead th {\n",
       "        text-align: right;\n",
       "    }\n",
       "</style>\n",
       "<table border=\"1\" class=\"dataframe\">\n",
       "  <thead>\n",
       "    <tr style=\"text-align: right;\">\n",
       "      <th></th>\n",
       "      <th>review</th>\n",
       "      <th>stars</th>\n",
       "      <th>date</th>\n",
       "      <th>country</th>\n",
       "    </tr>\n",
       "  </thead>\n",
       "  <tbody>\n",
       "    <tr>\n",
       "      <th>0</th>\n",
       "      <td>✅ Trip Verified |  I was flying to Warsaw for ...</td>\n",
       "      <td>1.0</td>\n",
       "      <td>2022-12-03</td>\n",
       "      <td>United States</td>\n",
       "    </tr>\n",
       "    <tr>\n",
       "      <th>1</th>\n",
       "      <td>✅ Trip Verified |  Booked a BA holiday to Marr...</td>\n",
       "      <td>9.0</td>\n",
       "      <td>2022-11-30</td>\n",
       "      <td>United Kingdom</td>\n",
       "    </tr>\n",
       "    <tr>\n",
       "      <th>2</th>\n",
       "      <td>✅ Trip Verified | Extremely sub-par service. H...</td>\n",
       "      <td>2.0</td>\n",
       "      <td>2022-11-28</td>\n",
       "      <td>United States</td>\n",
       "    </tr>\n",
       "    <tr>\n",
       "      <th>3</th>\n",
       "      <td>✅ Trip Verified |  I virtually gave up on Brit...</td>\n",
       "      <td>7.0</td>\n",
       "      <td>2022-11-26</td>\n",
       "      <td>United Kingdom</td>\n",
       "    </tr>\n",
       "    <tr>\n",
       "      <th>4</th>\n",
       "      <td>✅ Trip Verified |  I was pleasantly surprised ...</td>\n",
       "      <td>7.0</td>\n",
       "      <td>2022-11-25</td>\n",
       "      <td>Canada</td>\n",
       "    </tr>\n",
       "  </tbody>\n",
       "</table>\n",
       "</div>"
      ],
      "text/plain": [
       "                                              review  stars        date  \\\n",
       "0  ✅ Trip Verified |  I was flying to Warsaw for ...    1.0  2022-12-03   \n",
       "1  ✅ Trip Verified |  Booked a BA holiday to Marr...    9.0  2022-11-30   \n",
       "2  ✅ Trip Verified | Extremely sub-par service. H...    2.0  2022-11-28   \n",
       "3  ✅ Trip Verified |  I virtually gave up on Brit...    7.0  2022-11-26   \n",
       "4  ✅ Trip Verified |  I was pleasantly surprised ...    7.0  2022-11-25   \n",
       "\n",
       "          country  \n",
       "0   United States  \n",
       "1  United Kingdom  \n",
       "2   United States  \n",
       "3  United Kingdom  \n",
       "4          Canada  "
      ]
     },
     "execution_count": 4,
     "metadata": {},
     "output_type": "execute_result"
    }
   ],
   "source": [
    "# read in the data\n",
    "df = pd.read_csv(\"./data/reviews.csv\", index_col=0)\n",
    "df.head()"
   ]
  },
  {
   "cell_type": "markdown",
   "metadata": {},
   "source": [
    "## Data Cleaning"
   ]
  },
  {
   "cell_type": "code",
   "execution_count": 5,
   "metadata": {},
   "outputs": [],
   "source": [
    "# create a new column with the length of each review\n",
    "df[\"review_length\"] = df[\"review\"].apply(len)"
   ]
  },
  {
   "cell_type": "code",
   "execution_count": 6,
   "metadata": {},
   "outputs": [],
   "source": [
    "# create a new column to see if the review is verified\n",
    "df[\"verified\"] = df[\"review\"].apply(lambda x: \"Trip Verified\" in x)"
   ]
  },
  {
   "cell_type": "code",
   "execution_count": 7,
   "metadata": {},
   "outputs": [
    {
     "data": {
      "text/html": [
       "<div>\n",
       "<style scoped>\n",
       "    .dataframe tbody tr th:only-of-type {\n",
       "        vertical-align: middle;\n",
       "    }\n",
       "\n",
       "    .dataframe tbody tr th {\n",
       "        vertical-align: top;\n",
       "    }\n",
       "\n",
       "    .dataframe thead th {\n",
       "        text-align: right;\n",
       "    }\n",
       "</style>\n",
       "<table border=\"1\" class=\"dataframe\">\n",
       "  <thead>\n",
       "    <tr style=\"text-align: right;\">\n",
       "      <th></th>\n",
       "      <th>review</th>\n",
       "      <th>stars</th>\n",
       "      <th>date</th>\n",
       "      <th>country</th>\n",
       "      <th>review_length</th>\n",
       "      <th>verified</th>\n",
       "    </tr>\n",
       "  </thead>\n",
       "  <tbody>\n",
       "    <tr>\n",
       "      <th>0</th>\n",
       "      <td>✅ Trip Verified |  I was flying to Warsaw for ...</td>\n",
       "      <td>1.0</td>\n",
       "      <td>2022-12-03</td>\n",
       "      <td>United States</td>\n",
       "      <td>1387</td>\n",
       "      <td>True</td>\n",
       "    </tr>\n",
       "    <tr>\n",
       "      <th>1</th>\n",
       "      <td>✅ Trip Verified |  Booked a BA holiday to Marr...</td>\n",
       "      <td>9.0</td>\n",
       "      <td>2022-11-30</td>\n",
       "      <td>United Kingdom</td>\n",
       "      <td>487</td>\n",
       "      <td>True</td>\n",
       "    </tr>\n",
       "    <tr>\n",
       "      <th>2</th>\n",
       "      <td>✅ Trip Verified | Extremely sub-par service. H...</td>\n",
       "      <td>2.0</td>\n",
       "      <td>2022-11-28</td>\n",
       "      <td>United States</td>\n",
       "      <td>798</td>\n",
       "      <td>True</td>\n",
       "    </tr>\n",
       "    <tr>\n",
       "      <th>3</th>\n",
       "      <td>✅ Trip Verified |  I virtually gave up on Brit...</td>\n",
       "      <td>7.0</td>\n",
       "      <td>2022-11-26</td>\n",
       "      <td>United Kingdom</td>\n",
       "      <td>473</td>\n",
       "      <td>True</td>\n",
       "    </tr>\n",
       "    <tr>\n",
       "      <th>4</th>\n",
       "      <td>✅ Trip Verified |  I was pleasantly surprised ...</td>\n",
       "      <td>7.0</td>\n",
       "      <td>2022-11-25</td>\n",
       "      <td>Canada</td>\n",
       "      <td>655</td>\n",
       "      <td>True</td>\n",
       "    </tr>\n",
       "  </tbody>\n",
       "</table>\n",
       "</div>"
      ],
      "text/plain": [
       "                                              review  stars        date  \\\n",
       "0  ✅ Trip Verified |  I was flying to Warsaw for ...    1.0  2022-12-03   \n",
       "1  ✅ Trip Verified |  Booked a BA holiday to Marr...    9.0  2022-11-30   \n",
       "2  ✅ Trip Verified | Extremely sub-par service. H...    2.0  2022-11-28   \n",
       "3  ✅ Trip Verified |  I virtually gave up on Brit...    7.0  2022-11-26   \n",
       "4  ✅ Trip Verified |  I was pleasantly surprised ...    7.0  2022-11-25   \n",
       "\n",
       "          country  review_length  verified  \n",
       "0   United States           1387      True  \n",
       "1  United Kingdom            487      True  \n",
       "2   United States            798      True  \n",
       "3  United Kingdom            473      True  \n",
       "4          Canada            655      True  "
      ]
     },
     "execution_count": 7,
     "metadata": {},
     "output_type": "execute_result"
    }
   ],
   "source": [
    "# assign another name to the clean df\n",
    "df_clean = df.copy()\n",
    "df_clean.head()"
   ]
  },
  {
   "cell_type": "code",
   "execution_count": 8,
   "metadata": {},
   "outputs": [
    {
     "data": {
      "text/html": [
       "<div>\n",
       "<style scoped>\n",
       "    .dataframe tbody tr th:only-of-type {\n",
       "        vertical-align: middle;\n",
       "    }\n",
       "\n",
       "    .dataframe tbody tr th {\n",
       "        vertical-align: top;\n",
       "    }\n",
       "\n",
       "    .dataframe thead th {\n",
       "        text-align: right;\n",
       "    }\n",
       "</style>\n",
       "<table border=\"1\" class=\"dataframe\">\n",
       "  <thead>\n",
       "    <tr style=\"text-align: right;\">\n",
       "      <th></th>\n",
       "      <th>review</th>\n",
       "      <th>stars</th>\n",
       "      <th>date</th>\n",
       "      <th>country</th>\n",
       "      <th>review_length</th>\n",
       "      <th>verified</th>\n",
       "    </tr>\n",
       "  </thead>\n",
       "  <tbody>\n",
       "    <tr>\n",
       "      <th>0</th>\n",
       "      <td>I was flying to Warsaw for one day of meeting...</td>\n",
       "      <td>1.0</td>\n",
       "      <td>2022-12-03</td>\n",
       "      <td>United States</td>\n",
       "      <td>1387</td>\n",
       "      <td>True</td>\n",
       "    </tr>\n",
       "    <tr>\n",
       "      <th>1</th>\n",
       "      <td>Booked a BA holiday to Marrakech, after posti...</td>\n",
       "      <td>9.0</td>\n",
       "      <td>2022-11-30</td>\n",
       "      <td>United Kingdom</td>\n",
       "      <td>487</td>\n",
       "      <td>True</td>\n",
       "    </tr>\n",
       "    <tr>\n",
       "      <th>2</th>\n",
       "      <td>Extremely sub-par service. Highlights: No onli...</td>\n",
       "      <td>2.0</td>\n",
       "      <td>2022-11-28</td>\n",
       "      <td>United States</td>\n",
       "      <td>798</td>\n",
       "      <td>True</td>\n",
       "    </tr>\n",
       "    <tr>\n",
       "      <th>3</th>\n",
       "      <td>I virtually gave up on British Airways about ...</td>\n",
       "      <td>7.0</td>\n",
       "      <td>2022-11-26</td>\n",
       "      <td>United Kingdom</td>\n",
       "      <td>473</td>\n",
       "      <td>True</td>\n",
       "    </tr>\n",
       "    <tr>\n",
       "      <th>4</th>\n",
       "      <td>I was pleasantly surprised that the airline c...</td>\n",
       "      <td>7.0</td>\n",
       "      <td>2022-11-25</td>\n",
       "      <td>Canada</td>\n",
       "      <td>655</td>\n",
       "      <td>True</td>\n",
       "    </tr>\n",
       "  </tbody>\n",
       "</table>\n",
       "</div>"
      ],
      "text/plain": [
       "                                              review  stars        date  \\\n",
       "0   I was flying to Warsaw for one day of meeting...    1.0  2022-12-03   \n",
       "1   Booked a BA holiday to Marrakech, after posti...    9.0  2022-11-30   \n",
       "2  Extremely sub-par service. Highlights: No onli...    2.0  2022-11-28   \n",
       "3   I virtually gave up on British Airways about ...    7.0  2022-11-26   \n",
       "4   I was pleasantly surprised that the airline c...    7.0  2022-11-25   \n",
       "\n",
       "          country  review_length  verified  \n",
       "0   United States           1387      True  \n",
       "1  United Kingdom            487      True  \n",
       "2   United States            798      True  \n",
       "3  United Kingdom            473      True  \n",
       "4          Canada            655      True  "
      ]
     },
     "execution_count": 8,
     "metadata": {},
     "output_type": "execute_result"
    }
   ],
   "source": [
    "# clean the review column\n",
    "df_clean[\"review\"] = df_clean[\"review\"].apply(lambda x: x.replace(\"✅ Trip Verified | \", \"\"))\n",
    "\n",
    "# clean review column to remove \"not verified\"\n",
    "df_clean[\"review\"] = df_clean[\"review\"].apply(lambda x: x.replace(\"Not Verified | \", \"\"))\n",
    "\n",
    "# check first 5 rows\n",
    "df_clean.head(5)"
   ]
  },
  {
   "cell_type": "code",
   "execution_count": 9,
   "metadata": {},
   "outputs": [],
   "source": [
    "lemma = WordNetLemmatizer()\n",
    "\n",
    "# create an empty list to collect cleaned data corpus\n",
    "corpus = []\n",
    "\n",
    "# loop through each review, remove punctuations, small case it, join it and add it to corpus\n",
    "for rev in df_clean['review']:\n",
    "    rev = re.sub('[^a-zA-Z]',' ', rev)\n",
    "    rev = rev.lower()\n",
    "    rev = rev.split()\n",
    "    rev = [lemma.lemmatize(word) for word in rev if word not in set(stopwords.words(\"english\"))]\n",
    "    rev = \" \".join(rev)\n",
    "    corpus.append(rev)"
   ]
  },
  {
   "cell_type": "code",
   "execution_count": 10,
   "metadata": {},
   "outputs": [
    {
     "data": {
      "text/html": [
       "<div>\n",
       "<style scoped>\n",
       "    .dataframe tbody tr th:only-of-type {\n",
       "        vertical-align: middle;\n",
       "    }\n",
       "\n",
       "    .dataframe tbody tr th {\n",
       "        vertical-align: top;\n",
       "    }\n",
       "\n",
       "    .dataframe thead th {\n",
       "        text-align: right;\n",
       "    }\n",
       "</style>\n",
       "<table border=\"1\" class=\"dataframe\">\n",
       "  <thead>\n",
       "    <tr style=\"text-align: right;\">\n",
       "      <th></th>\n",
       "      <th>review</th>\n",
       "      <th>stars</th>\n",
       "      <th>date</th>\n",
       "      <th>country</th>\n",
       "      <th>review_length</th>\n",
       "      <th>verified</th>\n",
       "      <th>corpus</th>\n",
       "    </tr>\n",
       "  </thead>\n",
       "  <tbody>\n",
       "    <tr>\n",
       "      <th>0</th>\n",
       "      <td>I was flying to Warsaw for one day of meeting...</td>\n",
       "      <td>1.0</td>\n",
       "      <td>2022-12-03</td>\n",
       "      <td>United States</td>\n",
       "      <td>1387</td>\n",
       "      <td>True</td>\n",
       "      <td>flying warsaw one day meeting would flying bac...</td>\n",
       "    </tr>\n",
       "    <tr>\n",
       "      <th>1</th>\n",
       "      <td>Booked a BA holiday to Marrakech, after posti...</td>\n",
       "      <td>9.0</td>\n",
       "      <td>2022-11-30</td>\n",
       "      <td>United Kingdom</td>\n",
       "      <td>487</td>\n",
       "      <td>True</td>\n",
       "      <td>booked ba holiday marrakech posting negative r...</td>\n",
       "    </tr>\n",
       "    <tr>\n",
       "      <th>2</th>\n",
       "      <td>Extremely sub-par service. Highlights: No onli...</td>\n",
       "      <td>2.0</td>\n",
       "      <td>2022-11-28</td>\n",
       "      <td>United States</td>\n",
       "      <td>798</td>\n",
       "      <td>True</td>\n",
       "      <td>extremely sub par service highlight online mea...</td>\n",
       "    </tr>\n",
       "    <tr>\n",
       "      <th>3</th>\n",
       "      <td>I virtually gave up on British Airways about ...</td>\n",
       "      <td>7.0</td>\n",
       "      <td>2022-11-26</td>\n",
       "      <td>United Kingdom</td>\n",
       "      <td>473</td>\n",
       "      <td>True</td>\n",
       "      <td>virtually gave british airway three year ago w...</td>\n",
       "    </tr>\n",
       "    <tr>\n",
       "      <th>4</th>\n",
       "      <td>I was pleasantly surprised that the airline c...</td>\n",
       "      <td>7.0</td>\n",
       "      <td>2022-11-25</td>\n",
       "      <td>Canada</td>\n",
       "      <td>655</td>\n",
       "      <td>True</td>\n",
       "      <td>pleasantly surprised airline could maintain st...</td>\n",
       "    </tr>\n",
       "  </tbody>\n",
       "</table>\n",
       "</div>"
      ],
      "text/plain": [
       "                                              review  stars        date  \\\n",
       "0   I was flying to Warsaw for one day of meeting...    1.0  2022-12-03   \n",
       "1   Booked a BA holiday to Marrakech, after posti...    9.0  2022-11-30   \n",
       "2  Extremely sub-par service. Highlights: No onli...    2.0  2022-11-28   \n",
       "3   I virtually gave up on British Airways about ...    7.0  2022-11-26   \n",
       "4   I was pleasantly surprised that the airline c...    7.0  2022-11-25   \n",
       "\n",
       "          country  review_length  verified  \\\n",
       "0   United States           1387      True   \n",
       "1  United Kingdom            487      True   \n",
       "2   United States            798      True   \n",
       "3  United Kingdom            473      True   \n",
       "4          Canada            655      True   \n",
       "\n",
       "                                              corpus  \n",
       "0  flying warsaw one day meeting would flying bac...  \n",
       "1  booked ba holiday marrakech posting negative r...  \n",
       "2  extremely sub par service highlight online mea...  \n",
       "3  virtually gave british airway three year ago w...  \n",
       "4  pleasantly surprised airline could maintain st...  "
      ]
     },
     "execution_count": 10,
     "metadata": {},
     "output_type": "execute_result"
    }
   ],
   "source": [
    "# add the corpus to the dataframe\n",
    "df_clean[\"corpus\"] = corpus\n",
    "\n",
    "# check the first 5 rows\n",
    "df_clean.head()"
   ]
  },
  {
   "cell_type": "code",
   "execution_count": 11,
   "metadata": {},
   "outputs": [
    {
     "data": {
      "text/plain": [
       "review            object\n",
       "stars            float64\n",
       "date              object\n",
       "country           object\n",
       "review_length      int64\n",
       "verified            bool\n",
       "corpus            object\n",
       "dtype: object"
      ]
     },
     "execution_count": 11,
     "metadata": {},
     "output_type": "execute_result"
    }
   ],
   "source": [
    "# check data types\n",
    "df_clean.dtypes"
   ]
  },
  {
   "cell_type": "code",
   "execution_count": 12,
   "metadata": {},
   "outputs": [],
   "source": [
    "# convert date to datetime\n",
    "df_clean[\"date\"] = pd.to_datetime(df_clean[\"date\"])"
   ]
  },
  {
   "cell_type": "code",
   "execution_count": 13,
   "metadata": {},
   "outputs": [
    {
     "data": {
      "text/plain": [
       "review           0\n",
       "stars            0\n",
       "date             0\n",
       "country          0\n",
       "review_length    0\n",
       "verified         0\n",
       "corpus           0\n",
       "dtype: int64"
      ]
     },
     "execution_count": 13,
     "metadata": {},
     "output_type": "execute_result"
    }
   ],
   "source": [
    "# check for null values\n",
    "df_clean.isnull().sum()"
   ]
  },
  {
   "cell_type": "code",
   "execution_count": 16,
   "metadata": {},
   "outputs": [],
   "source": [
    "# export the cleaned data\n",
    "df_clean.to_csv(\"./data/reviews_clean.csv\")"
   ]
  }
 ],
 "metadata": {
  "kernelspec": {
   "display_name": "Python 3.9.7 ('base')",
   "language": "python",
   "name": "python3"
  },
  "language_info": {
   "codemirror_mode": {
    "name": "ipython",
    "version": 3
   },
   "file_extension": ".py",
   "mimetype": "text/x-python",
   "name": "python",
   "nbconvert_exporter": "python",
   "pygments_lexer": "ipython3",
   "version": "3.9.7"
  },
  "orig_nbformat": 4,
  "vscode": {
   "interpreter": {
    "hash": "fc902f5f9f1b4ac8244fa2d1a71d10e1bb8b95bd909217946ac119cb82bcf206"
   }
  }
 },
 "nbformat": 4,
 "nbformat_minor": 2
}
